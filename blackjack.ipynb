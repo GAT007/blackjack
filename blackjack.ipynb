{
 "cells": [
  {
   "cell_type": "code",
   "id": "initial_id",
   "metadata": {
    "collapsed": true,
    "ExecuteTime": {
     "end_time": "2025-01-02T03:22:24.053404Z",
     "start_time": "2025-01-02T03:22:24.035914Z"
    }
   },
   "source": [
    "import random\n",
    "\n",
    "class Card:\n",
    "    def __init__(self, suite, rank):\n",
    "        self.suite = suite\n",
    "        self.rank = rank\n",
    "    #This method it is called when print Card is invoked\n",
    "    def __str__(self):\n",
    "        return f\"{self.rank[\"rank\"]} of {self.suite}\"\n",
    "\n",
    "class Deck:\n",
    "    def __init__(self):\n",
    "        self.cards = []\n",
    "        suites = [\"hearts\", \"diamonds\", \"clubs\", \"spades\"]\n",
    "        ranks = [\n",
    "            {\"rank\": \"A\", \"value\":11},\n",
    "            {\"rank\": \"2\", \"value\":2},\n",
    "            {\"rank\": \"3\", \"value\":3},\n",
    "            {\"rank\": \"4\", \"value\":4},\n",
    "            {\"rank\": \"5\", \"value\":5},\n",
    "            {\"rank\": \"6\", \"value\":6},\n",
    "            {\"rank\": \"7\", \"value\":7},\n",
    "            {\"rank\": \"8\", \"value\":8},\n",
    "            {\"rank\": \"9\", \"value\":9},\n",
    "            {\"rank\": \"10\", \"value\":10},\n",
    "            {\"rank\": \"K\", \"value\":10},\n",
    "            {\"rank\": \"Q\", \"value\":10},\n",
    "            {\"rank\": \"J\", \"value\":10},\n",
    "        ]\n",
    "        for suite in suites:\n",
    "            for rank in ranks:\n",
    "                self.cards.append(Card(suite, rank))\n",
    "\n",
    "    def shuffle(self):\n",
    "        if(len(self.cards) > 1):\n",
    "            random.shuffle(self.cards)\n",
    "        else:\n",
    "            print(\"Cannot shuffle deck! Only 1 card remaining!|\")\n",
    "\n",
    "    def deal(self, n):\n",
    "        dealt_cards = []\n",
    "        if len(self.cards) > 0:\n",
    "            for i in range(n):\n",
    "                dealt_cards.append(self.cards.pop())\n",
    "        else:\n",
    "            print(\"Deck is empty!\")\n",
    "        return dealt_cards\n",
    "\n",
    "class Hand():\n",
    "    def __init__(self, dealer = False):\n",
    "        self.cards = []\n",
    "        self.value = 0\n",
    "        self.dealer = dealer\n",
    "\n",
    "    def add_card(self, card_list):\n",
    "        self.cards.extend(card_list)\n",
    "\n",
    "    def calculate_value(self):\n",
    "        has_ace = False\n",
    "        for card in self.cards:\n",
    "            self.value += card.rank[\"value\"]\n",
    "            if card.rank[\"rank\"] == \"A\":\n",
    "                has_ace = True\n",
    "\n",
    "        if has_ace and self.value>21:\n",
    "            self.value -= 10\n",
    "\n",
    "    def get_value(self):\n",
    "        self.calculate_value()\n",
    "        return self.value\n",
    "\n",
    "    def is_blackjack(self):\n",
    "        return self.get_value() == 21\n",
    "\n",
    "    def display(self, show_all_dealer_cards=False):\n",
    "        print(f'''{\"Dealers's\" if self.dealer else \"Your\"}''')\n",
    "        for index, card in enumerate(self.cards):\n",
    "            if index == 0 and self.dealer and not show_all_dealer_cards and not self.is_blackjack():\n",
    "                print(\"hidden\")\n",
    "            else:\n",
    "                print(card)\n",
    "\n",
    "        if not self.dealer:\n",
    "            print(f\"Value : {self.get_value()}\")\n",
    "\n",
    "\n",
    "    def __str__(self):\n",
    "        card_string = [str(card) for card in self.cards]\n",
    "        return \", \".join(card_string)\n",
    "\n"
   ],
   "outputs": [],
   "execution_count": 80
  },
  {
   "metadata": {
    "ExecuteTime": {
     "end_time": "2025-01-02T03:21:01.667616Z",
     "start_time": "2025-01-02T03:21:01.661120Z"
    }
   },
   "cell_type": "code",
   "source": "",
   "id": "7909b041deddbc8e",
   "outputs": [
    {
     "name": "stdout",
     "output_type": "stream",
     "text": [
      "Dealers's\n",
      "hidden\n",
      "9 of clubs\n"
     ]
    }
   ],
   "execution_count": 78
  },
  {
   "metadata": {
    "ExecuteTime": {
     "end_time": "2025-01-02T00:50:29.260431Z",
     "start_time": "2025-01-02T00:50:29.255521Z"
    }
   },
   "cell_type": "code",
   "source": "",
   "id": "e387c1426a848f49",
   "outputs": [],
   "execution_count": null
  },
  {
   "metadata": {},
   "cell_type": "code",
   "outputs": [],
   "execution_count": null,
   "source": "",
   "id": "56372023c287ca22"
  }
 ],
 "metadata": {
  "kernelspec": {
   "display_name": "Python 3",
   "language": "python",
   "name": "python3"
  },
  "language_info": {
   "codemirror_mode": {
    "name": "ipython",
    "version": 2
   },
   "file_extension": ".py",
   "mimetype": "text/x-python",
   "name": "python",
   "nbconvert_exporter": "python",
   "pygments_lexer": "ipython2",
   "version": "2.7.6"
  }
 },
 "nbformat": 4,
 "nbformat_minor": 5
}
