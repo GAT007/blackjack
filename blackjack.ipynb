{
 "cells": [
  {
   "cell_type": "code",
   "id": "initial_id",
   "metadata": {
    "collapsed": true,
    "ExecuteTime": {
     "end_time": "2025-01-02T00:11:11.379220Z",
     "start_time": "2025-01-02T00:11:11.359561Z"
    }
   },
   "source": [
    "import random\n",
    "cards = []\n",
    "suites = [\"hearts\", \"diamonds\", \"clubs\", \"spades\"]\n",
    "ranks = [\"K\", \"Q\", \"J\", \"A\", \"2\", \"3\", \"4\", \"5\", \"6\", \"7\", \"8\", \"9\"]\n",
    "for suite in suites:\n",
    "    for rank in ranks:\n",
    "        cards.append([suite, rank])"
   ],
   "outputs": [],
   "execution_count": 13
  },
  {
   "metadata": {
    "ExecuteTime": {
     "end_time": "2025-01-02T00:14:44.208187Z",
     "start_time": "2025-01-02T00:14:44.194770Z"
    }
   },
   "cell_type": "code",
   "source": [
    "def shuffle():\n",
    "    random.shuffle(cards)\n",
    "\n",
    "def deal(n):\n",
    "    dealt_cards = []\n",
    "    for i in range(n):\n",
    "        dealt_cards.append(cards.pop())\n",
    "    return dealt_cards\n",
    "\n",
    "shuffle()\n",
    "\n",
    "card = deal(3)\n",
    "print(card)"
   ],
   "id": "7909b041deddbc8e",
   "outputs": [
    {
     "name": "stdout",
     "output_type": "stream",
     "text": [
      "[['hearts', '2'], ['clubs', 'J'], ['spades', 'A']]\n"
     ]
    }
   ],
   "execution_count": 17
  },
  {
   "metadata": {},
   "cell_type": "code",
   "outputs": [],
   "execution_count": null,
   "source": "",
   "id": "e387c1426a848f49"
  }
 ],
 "metadata": {
  "kernelspec": {
   "display_name": "Python 3",
   "language": "python",
   "name": "python3"
  },
  "language_info": {
   "codemirror_mode": {
    "name": "ipython",
    "version": 2
   },
   "file_extension": ".py",
   "mimetype": "text/x-python",
   "name": "python",
   "nbconvert_exporter": "python",
   "pygments_lexer": "ipython2",
   "version": "2.7.6"
  }
 },
 "nbformat": 4,
 "nbformat_minor": 5
}
