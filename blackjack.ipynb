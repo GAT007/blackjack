{
 "cells": [
  {
   "cell_type": "code",
   "id": "initial_id",
   "metadata": {
    "collapsed": true,
    "ExecuteTime": {
     "end_time": "2025-01-02T01:09:03.142917Z",
     "start_time": "2025-01-02T01:09:03.129279Z"
    }
   },
   "source": [
    "import random\n",
    "\n",
    "class Card:\n",
    "    def __init__(self, suite, rank):\n",
    "        self.suite = suite\n",
    "        self.rank = rank\n",
    "    #This method it is called when print Card is invoked\n",
    "    def __str__(self):\n",
    "        return f\"{self.rank[\"rank\"]} of {self.suite}\"\n",
    "\n",
    "class Deck:\n",
    "    def __init__(self):\n",
    "        self.cards = []\n",
    "        suites = [\"hearts\", \"diamonds\", \"clubs\", \"spades\"]\n",
    "        ranks = [\n",
    "            {\"rank\": \"A\", \"value\":11},\n",
    "            {\"rank\": \"2\", \"value\":2},\n",
    "            {\"rank\": \"3\", \"value\":3},\n",
    "            {\"rank\": \"4\", \"value\":4},\n",
    "            {\"rank\": \"5\", \"value\":5},\n",
    "            {\"rank\": \"6\", \"value\":6},\n",
    "            {\"rank\": \"7\", \"value\":7},\n",
    "            {\"rank\": \"8\", \"value\":8},\n",
    "            {\"rank\": \"9\", \"value\":9},\n",
    "            {\"rank\": \"10\", \"value\":10},\n",
    "            {\"rank\": \"K\", \"value\":10},\n",
    "            {\"rank\": \"Q\", \"value\":10},\n",
    "            {\"rank\": \"J\", \"value\":10},\n",
    "        ]\n",
    "        for suite in suites:\n",
    "            for rank in ranks:\n",
    "                self.cards.append([suite, rank])\n",
    "\n",
    "    def shuffle(self):\n",
    "        if(len(self.cards) > 1):\n",
    "            random.shuffle(self.cards)\n",
    "        else:\n",
    "            print(\"Cannot shuffle deck! Only 1 card remaining!|\")\n",
    "\n",
    "    def deal(self, n):\n",
    "        dealt_cards = []\n",
    "        if len(self.cards) > 0:\n",
    "            for i in range(n):\n",
    "                dealt_cards.append(self.cards.pop())\n",
    "        else:\n",
    "            print(\"Deck is empty!\")\n",
    "        return dealt_cards"
   ],
   "outputs": [],
   "execution_count": 44
  },
  {
   "metadata": {
    "ExecuteTime": {
     "end_time": "2025-01-02T01:09:57.997242Z",
     "start_time": "2025-01-02T01:09:57.988972Z"
    }
   },
   "cell_type": "code",
   "source": "print(Card(\"Hello\", {\"rank\" : 4}))",
   "id": "fe535ff0d02b1b63",
   "outputs": [
    {
     "name": "stdout",
     "output_type": "stream",
     "text": [
      "4 of Hello\n"
     ]
    }
   ],
   "execution_count": 46
  },
  {
   "metadata": {
    "ExecuteTime": {
     "end_time": "2025-01-02T01:02:02.734090Z",
     "start_time": "2025-01-02T01:02:02.722657Z"
    }
   },
   "cell_type": "code",
   "source": [
    "deck1 = Deck()\n",
    "deck2 = Deck()\n",
    "print(deck1.cards)\n",
    "deck2.shuffle()\n",
    "print(deck2.cards)\n"
   ],
   "id": "7909b041deddbc8e",
   "outputs": [
    {
     "name": "stdout",
     "output_type": "stream",
     "text": [
      "[['hearts', {'rank': 'A', 'value': 11}], ['hearts', {'rank': '2', 'value': 2}], ['hearts', {'rank': '3', 'value': 3}], ['hearts', {'rank': '4', 'value': 4}], ['hearts', {'rank': '5', 'value': 5}], ['hearts', {'rank': '6', 'value': 6}], ['hearts', {'rank': '7', 'value': 7}], ['hearts', {'rank': '8', 'value': 8}], ['hearts', {'rank': '9', 'value': 9}], ['hearts', {'rank': '10', 'value': 10}], ['hearts', {'rank': 'K', 'value': 10}], ['hearts', {'rank': 'Q', 'value': 10}], ['hearts', {'rank': 'J', 'value': 10}], ['diamonds', {'rank': 'A', 'value': 11}], ['diamonds', {'rank': '2', 'value': 2}], ['diamonds', {'rank': '3', 'value': 3}], ['diamonds', {'rank': '4', 'value': 4}], ['diamonds', {'rank': '5', 'value': 5}], ['diamonds', {'rank': '6', 'value': 6}], ['diamonds', {'rank': '7', 'value': 7}], ['diamonds', {'rank': '8', 'value': 8}], ['diamonds', {'rank': '9', 'value': 9}], ['diamonds', {'rank': '10', 'value': 10}], ['diamonds', {'rank': 'K', 'value': 10}], ['diamonds', {'rank': 'Q', 'value': 10}], ['diamonds', {'rank': 'J', 'value': 10}], ['clubs', {'rank': 'A', 'value': 11}], ['clubs', {'rank': '2', 'value': 2}], ['clubs', {'rank': '3', 'value': 3}], ['clubs', {'rank': '4', 'value': 4}], ['clubs', {'rank': '5', 'value': 5}], ['clubs', {'rank': '6', 'value': 6}], ['clubs', {'rank': '7', 'value': 7}], ['clubs', {'rank': '8', 'value': 8}], ['clubs', {'rank': '9', 'value': 9}], ['clubs', {'rank': '10', 'value': 10}], ['clubs', {'rank': 'K', 'value': 10}], ['clubs', {'rank': 'Q', 'value': 10}], ['clubs', {'rank': 'J', 'value': 10}], ['spades', {'rank': 'A', 'value': 11}], ['spades', {'rank': '2', 'value': 2}], ['spades', {'rank': '3', 'value': 3}], ['spades', {'rank': '4', 'value': 4}], ['spades', {'rank': '5', 'value': 5}], ['spades', {'rank': '6', 'value': 6}], ['spades', {'rank': '7', 'value': 7}], ['spades', {'rank': '8', 'value': 8}], ['spades', {'rank': '9', 'value': 9}], ['spades', {'rank': '10', 'value': 10}], ['spades', {'rank': 'K', 'value': 10}], ['spades', {'rank': 'Q', 'value': 10}], ['spades', {'rank': 'J', 'value': 10}]]\n",
      "[['hearts', {'rank': '6', 'value': 6}], ['hearts', {'rank': 'Q', 'value': 10}], ['spades', {'rank': '4', 'value': 4}], ['diamonds', {'rank': 'J', 'value': 10}], ['clubs', {'rank': '6', 'value': 6}], ['hearts', {'rank': '9', 'value': 9}], ['diamonds', {'rank': '5', 'value': 5}], ['clubs', {'rank': '5', 'value': 5}], ['hearts', {'rank': '3', 'value': 3}], ['diamonds', {'rank': '3', 'value': 3}], ['hearts', {'rank': 'A', 'value': 11}], ['spades', {'rank': 'K', 'value': 10}], ['spades', {'rank': '8', 'value': 8}], ['spades', {'rank': '7', 'value': 7}], ['spades', {'rank': 'Q', 'value': 10}], ['spades', {'rank': 'J', 'value': 10}], ['diamonds', {'rank': 'K', 'value': 10}], ['diamonds', {'rank': '10', 'value': 10}], ['diamonds', {'rank': '8', 'value': 8}], ['spades', {'rank': '5', 'value': 5}], ['hearts', {'rank': '8', 'value': 8}], ['diamonds', {'rank': '4', 'value': 4}], ['hearts', {'rank': '4', 'value': 4}], ['hearts', {'rank': '5', 'value': 5}], ['clubs', {'rank': '2', 'value': 2}], ['hearts', {'rank': 'J', 'value': 10}], ['clubs', {'rank': 'A', 'value': 11}], ['diamonds', {'rank': '9', 'value': 9}], ['clubs', {'rank': 'Q', 'value': 10}], ['diamonds', {'rank': 'Q', 'value': 10}], ['clubs', {'rank': '10', 'value': 10}], ['hearts', {'rank': 'K', 'value': 10}], ['spades', {'rank': '6', 'value': 6}], ['clubs', {'rank': '8', 'value': 8}], ['hearts', {'rank': '10', 'value': 10}], ['diamonds', {'rank': '2', 'value': 2}], ['clubs', {'rank': '9', 'value': 9}], ['spades', {'rank': '9', 'value': 9}], ['hearts', {'rank': '2', 'value': 2}], ['diamonds', {'rank': '7', 'value': 7}], ['diamonds', {'rank': 'A', 'value': 11}], ['clubs', {'rank': '4', 'value': 4}], ['diamonds', {'rank': '6', 'value': 6}], ['spades', {'rank': '2', 'value': 2}], ['spades', {'rank': '10', 'value': 10}], ['spades', {'rank': 'A', 'value': 11}], ['clubs', {'rank': '7', 'value': 7}], ['hearts', {'rank': '7', 'value': 7}], ['clubs', {'rank': 'K', 'value': 10}], ['clubs', {'rank': 'J', 'value': 10}], ['spades', {'rank': '3', 'value': 3}], ['clubs', {'rank': '3', 'value': 3}]]\n"
     ]
    }
   ],
   "execution_count": 33
  },
  {
   "metadata": {
    "ExecuteTime": {
     "end_time": "2025-01-02T00:50:29.260431Z",
     "start_time": "2025-01-02T00:50:29.255521Z"
    }
   },
   "cell_type": "code",
   "source": "",
   "id": "e387c1426a848f49",
   "outputs": [],
   "execution_count": null
  },
  {
   "metadata": {},
   "cell_type": "code",
   "outputs": [],
   "execution_count": null,
   "source": "",
   "id": "56372023c287ca22"
  }
 ],
 "metadata": {
  "kernelspec": {
   "display_name": "Python 3",
   "language": "python",
   "name": "python3"
  },
  "language_info": {
   "codemirror_mode": {
    "name": "ipython",
    "version": 2
   },
   "file_extension": ".py",
   "mimetype": "text/x-python",
   "name": "python",
   "nbconvert_exporter": "python",
   "pygments_lexer": "ipython2",
   "version": "2.7.6"
  }
 },
 "nbformat": 4,
 "nbformat_minor": 5
}
