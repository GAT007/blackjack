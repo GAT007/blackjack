{
 "cells": [
  {
   "cell_type": "code",
   "id": "initial_id",
   "metadata": {
    "collapsed": true,
    "ExecuteTime": {
     "end_time": "2025-01-02T00:48:47.169133Z",
     "start_time": "2025-01-02T00:48:47.158667Z"
    }
   },
   "source": [
    "import random\n",
    "cards = []\n",
    "suites = [\"hearts\", \"diamonds\", \"clubs\", \"spades\"]\n",
    "ranks = [\n",
    "    {\"rank\": \"A\", \"value\":11},\n",
    "    {\"rank\": \"2\", \"value\":2},\n",
    "    {\"rank\": \"3\", \"value\":3},\n",
    "    {\"rank\": \"4\", \"value\":4},\n",
    "    {\"rank\": \"5\", \"value\":5},\n",
    "    {\"rank\": \"6\", \"value\":6},\n",
    "    {\"rank\": \"7\", \"value\":7},\n",
    "    {\"rank\": \"8\", \"value\":8},\n",
    "    {\"rank\": \"9\", \"value\":9},\n",
    "    {\"rank\": \"10\", \"value\":10},\n",
    "    {\"rank\": \"K\", \"value\":10},\n",
    "    {\"rank\": \"Q\", \"value\":10},\n",
    "    {\"rank\": \"J\", \"value\":10},\n",
    "]\n",
    "for suite in suites:\n",
    "    for rank in ranks:\n",
    "        cards.append([suite, rank])"
   ],
   "outputs": [],
   "execution_count": 23
  },
  {
   "metadata": {
    "ExecuteTime": {
     "end_time": "2025-01-02T00:52:02.988010Z",
     "start_time": "2025-01-02T00:52:02.981645Z"
    }
   },
   "cell_type": "code",
   "source": [
    "def shuffle():\n",
    "    random.shuffle(cards)\n",
    "\n",
    "def deal(n):\n",
    "    dealt_cards = []\n",
    "    for i in range(n):\n",
    "        dealt_cards.append(cards.pop())\n",
    "    return dealt_cards\n",
    "\n",
    "shuffle()\n",
    "\n",
    "card = deal(1)[0]\n",
    "print(f\"{card[1][\"value\"]}\")\n"
   ],
   "id": "7909b041deddbc8e",
   "outputs": [
    {
     "name": "stdout",
     "output_type": "stream",
     "text": [
      "8\n"
     ]
    }
   ],
   "execution_count": 29
  },
  {
   "metadata": {
    "ExecuteTime": {
     "end_time": "2025-01-02T00:50:29.260431Z",
     "start_time": "2025-01-02T00:50:29.255521Z"
    }
   },
   "cell_type": "code",
   "source": "",
   "id": "e387c1426a848f49",
   "outputs": [],
   "execution_count": null
  },
  {
   "metadata": {},
   "cell_type": "code",
   "outputs": [],
   "execution_count": null,
   "source": "",
   "id": "56372023c287ca22"
  }
 ],
 "metadata": {
  "kernelspec": {
   "display_name": "Python 3",
   "language": "python",
   "name": "python3"
  },
  "language_info": {
   "codemirror_mode": {
    "name": "ipython",
    "version": 2
   },
   "file_extension": ".py",
   "mimetype": "text/x-python",
   "name": "python",
   "nbconvert_exporter": "python",
   "pygments_lexer": "ipython2",
   "version": "2.7.6"
  }
 },
 "nbformat": 4,
 "nbformat_minor": 5
}
